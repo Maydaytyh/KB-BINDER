{
 "cells": [
  {
   "cell_type": "code",
   "execution_count": 11,
   "id": "dcd81ae0",
   "metadata": {},
   "outputs": [],
   "source": [
    "from pyserini.search import FaissSearcher, LuceneSearcher\n",
    "from pyserini.search.faiss import AutoQueryEncoder\n",
    "from pyserini.search.hybrid import HybridSearcher\n",
    "from pyserini.search import get_topics, get_qrels\n",
    "import json\n",
    "from tqdm import tqdm"
   ]
  },
  {
   "cell_type": "code",
   "execution_count": 4,
   "id": "33ae18b7",
   "metadata": {},
   "outputs": [],
   "source": [
    "corpus = LuceneSearcher('index_relation_fb')"
   ]
  },
  {
   "cell_type": "code",
   "execution_count": 26,
   "id": "6d10e10e",
   "metadata": {},
   "outputs": [],
   "source": [
    "# BM25 search"
   ]
  },
  {
   "cell_type": "code",
   "execution_count": 5,
   "id": "e1fe2437",
   "metadata": {},
   "outputs": [],
   "source": [
    "bm25_searcher = LuceneSearcher('index_relation_fb')"
   ]
  },
  {
   "cell_type": "code",
   "execution_count": 6,
   "id": "068292f0",
   "metadata": {},
   "outputs": [
    {
     "name": "stdout",
     "output_type": "stream",
     "text": [
      "{'id': '18202', 'contents': 'measurement unit surface tension unit tension in newtons per meter', 'rel_ori': 'measurement_unit.surface_tension_unit.tension_in_newtons_per_meter'}\n",
      "{'id': '18203', 'contents': 'measurement unit surface tension unit measurement system', 'rel_ori': 'measurement_unit.surface_tension_unit.measurement_system'}\n",
      "{'id': '20530', 'contents': 'measurement unit measurement system surface tension units', 'rel_ori': 'measurement_unit.measurement_system.surface_tension_units'}\n",
      "{'id': '18525', 'contents': 'measurement unit unit of surface density measurement system', 'rel_ori': 'measurement_unit.unit_of_surface_density.measurement_system'}\n",
      "{'id': '20509', 'contents': 'measurement unit measurement system surface density units', 'rel_ori': 'measurement_unit.measurement_system.surface_density_units'}\n",
      "{'id': '17153', 'contents': 'measurement unit unit of volumetric flow rate rate in cubic metres per second', 'rel_ori': 'measurement_unit.unit_of_volumetric_flow_rate.rate_in_cubic_metres_per_second'}\n",
      "{'id': '18526', 'contents': 'measurement unit unit of surface density density in kilograms per square meter', 'rel_ori': 'measurement_unit.unit_of_surface_density.density_in_kilograms_per_square_meter'}\n",
      "{'id': '17162', 'contents': 'measurement unit unit of force force in newtons', 'rel_ori': 'measurement_unit.unit_of_force.force_in_newtons'}\n",
      "{'id': '11299', 'contents': 'measurement unit force moment unit moment in newton meters', 'rel_ori': 'measurement_unit.force_moment_unit.moment_in_newton_meters'}\n",
      "{'id': '11246', 'contents': 'measurement unit unit of conductivity measurement system', 'rel_ori': 'measurement_unit.unit_of_conductivity.measurement_system'}\n",
      "{'id': '11518', 'contents': 'measurement unit acceleration unit measurement system', 'rel_ori': 'measurement_unit.acceleration_unit.measurement_system'}\n",
      "{'id': '11675', 'contents': 'measurement unit distance unit measurement system', 'rel_ori': 'measurement_unit.distance_unit.measurement_system'}\n",
      "{'id': '11719', 'contents': 'measurement unit permeability unit measurement system', 'rel_ori': 'measurement_unit.permeability_unit.measurement_system'}\n",
      "{'id': '11789', 'contents': 'measurement unit substance unit measurement system', 'rel_ori': 'measurement_unit.substance_unit.measurement_system'}\n",
      "{'id': '13070', 'contents': 'measurement unit energy unit measurement system', 'rel_ori': 'measurement_unit.energy_unit.measurement_system'}\n",
      "{'id': '13221', 'contents': 'measurement unit unit of density measurement system', 'rel_ori': 'measurement_unit.unit_of_density.measurement_system'}\n",
      "{'id': '13256', 'contents': 'measurement unit wavenumber unit measurement system', 'rel_ori': 'measurement_unit.wavenumber_unit.measurement_system'}\n",
      "{'id': '13360', 'contents': 'measurement unit measurement system luminance units', 'rel_ori': 'measurement_unit.measurement_system.luminance_units'}\n",
      "{'id': '13361', 'contents': 'measurement unit measurement system speed units', 'rel_ori': 'measurement_unit.measurement_system.speed_units'}\n",
      "{'id': '13362', 'contents': 'measurement unit measurement system density units', 'rel_ori': 'measurement_unit.measurement_system.density_units'}\n"
     ]
    }
   ],
   "source": [
    "hits = bm25_searcher.search('newton per metre is the unit of measurement for surface tension in which system of measurement?', k=20)\n",
    "for hit in hits:\n",
    "    print(json.loads(corpus.doc(str(hit.docid)).raw()))"
   ]
  },
  {
   "cell_type": "code",
   "execution_count": 29,
   "id": "4f9b1f66",
   "metadata": {},
   "outputs": [],
   "source": [
    "# Contriever Search"
   ]
  },
  {
   "cell_type": "code",
   "execution_count": 7,
   "id": "98d42f86",
   "metadata": {},
   "outputs": [
    {
     "name": "stderr",
     "output_type": "stream",
     "text": [
      "'(MaxRetryError(\"HTTPSConnectionPool(host='huggingface.co', port=443): Max retries exceeded with url: /facebook/contriever/resolve/main/config.json (Caused by ConnectTimeoutError(<urllib3.connection.HTTPSConnection object at 0x7f46a3152b80>, 'Connection to huggingface.co timed out. (connect timeout=10)'))\"), '(Request ID: 3b1afbd2-9dc5-4a48-a3a4-a6eba1a7ee9d)')' thrown while requesting HEAD https://huggingface.co/facebook/contriever/resolve/main/config.json\n",
      "'(MaxRetryError(\"HTTPSConnectionPool(host='huggingface.co', port=443): Max retries exceeded with url: /facebook/contriever/resolve/main/tokenizer_config.json (Caused by ConnectTimeoutError(<urllib3.connection.HTTPSConnection object at 0x7f469ba01430>, 'Connection to huggingface.co timed out. (connect timeout=10)'))\"), '(Request ID: 6bd4d6e3-13ce-4f47-afb3-1f2f1ede5839)')' thrown while requesting HEAD https://huggingface.co/facebook/contriever/resolve/main/tokenizer_config.json\n"
     ]
    }
   ],
   "source": [
    "query_encoder = AutoQueryEncoder(encoder_dir='facebook/contriever', pooling='mean')\n",
    "contriever_searcher = FaissSearcher('freebase_contriever_index', query_encoder)"
   ]
  },
  {
   "cell_type": "code",
   "execution_count": 8,
   "id": "6cd63532",
   "metadata": {},
   "outputs": [
    {
     "name": "stdout",
     "output_type": "stream",
     "text": [
      "{'id': '18202', 'contents': 'measurement unit surface tension unit tension in newtons per meter', 'rel_ori': 'measurement_unit.surface_tension_unit.tension_in_newtons_per_meter'}\n",
      "{'id': '20530', 'contents': 'measurement unit measurement system surface tension units', 'rel_ori': 'measurement_unit.measurement_system.surface_tension_units'}\n",
      "{'id': '18525', 'contents': 'measurement unit unit of surface density measurement system', 'rel_ori': 'measurement_unit.unit_of_surface_density.measurement_system'}\n",
      "{'id': '17162', 'contents': 'measurement unit unit of force force in newtons', 'rel_ori': 'measurement_unit.unit_of_force.force_in_newtons'}\n",
      "{'id': '18526', 'contents': 'measurement unit unit of surface density density in kilograms per square meter', 'rel_ori': 'measurement_unit.unit_of_surface_density.density_in_kilograms_per_square_meter'}\n",
      "{'id': '18203', 'contents': 'measurement unit surface tension unit measurement system', 'rel_ori': 'measurement_unit.surface_tension_unit.measurement_system'}\n",
      "{'id': '17153', 'contents': 'measurement unit unit of volumetric flow rate rate in cubic metres per second', 'rel_ori': 'measurement_unit.unit_of_volumetric_flow_rate.rate_in_cubic_metres_per_second'}\n",
      "{'id': '19608', 'contents': 'measurement unit unit of force measurement system', 'rel_ori': 'measurement_unit.unit_of_force.measurement_system'}\n",
      "{'id': '11299', 'contents': 'measurement unit force moment unit moment in newton meters', 'rel_ori': 'measurement_unit.force_moment_unit.moment_in_newton_meters'}\n",
      "{'id': '2433', 'contents': 'measurement unit money value amount', 'rel_ori': 'measurement_unit.money_value.amount'}\n",
      "{'id': '15451', 'contents': 'measurement unit angular velocity unit frequency in radians per second', 'rel_ori': 'measurement_unit.angular_velocity_unit.frequency_in_radians_per_second'}\n",
      "{'id': '6826', 'contents': 'measurement unit electric field strength unit strength in volts per meter', 'rel_ori': 'measurement_unit.electric_field_strength_unit.strength_in_volts_per_meter'}\n",
      "{'id': '7526', 'contents': 'measurement unit pressure unit pressure in pascals', 'rel_ori': 'measurement_unit.pressure_unit.pressure_in_pascals'}\n",
      "{'id': '18470', 'contents': 'measurement unit measurement system force moment units', 'rel_ori': 'measurement_unit.measurement_system.force_moment_units'}\n",
      "{'id': '20812', 'contents': 'measurement unit volumetric heat capacity unit capacity in joules per cubic meter per kelvin', 'rel_ori': 'measurement_unit.volumetric_heat_capacity_unit.capacity_in_joules_per_cubic_meter_per_kelvin'}\n",
      "{'id': '20509', 'contents': 'measurement unit measurement system surface density units', 'rel_ori': 'measurement_unit.measurement_system.surface_density_units'}\n",
      "{'id': '18467', 'contents': 'base engineering structural steel designation mass per metre', 'rel_ori': 'base.engineering.structural_steel_designation.mass_per_metre'}\n",
      "{'id': '8926', 'contents': 'measurement unit mass unit weightmass in kilograms', 'rel_ori': 'measurement_unit.mass_unit.weightmass_in_kilograms'}\n",
      "{'id': '14807', 'contents': 'measurement unit magnetic field strength unit strength in amperes per meter', 'rel_ori': 'measurement_unit.magnetic_field_strength_unit.strength_in_amperes_per_meter'}\n",
      "{'id': '13221', 'contents': 'measurement unit unit of density measurement system', 'rel_ori': 'measurement_unit.unit_of_density.measurement_system'}\n"
     ]
    }
   ],
   "source": [
    "hits = contriever_searcher.search('newton per metre is the unit of measurement for surface tension in which system of measurement?', k=20)\n",
    "for hit in hits:\n",
    "    print(json.loads(corpus.doc(str(hit.docid)).raw()))"
   ]
  },
  {
   "cell_type": "code",
   "execution_count": 36,
   "id": "88b96974",
   "metadata": {},
   "outputs": [],
   "source": [
    "# hybrid searcher that combine BM25 and Contriever"
   ]
  },
  {
   "cell_type": "code",
   "execution_count": 12,
   "id": "3b55ce7a",
   "metadata": {},
   "outputs": [
    {
     "name": "stdout",
     "output_type": "stream",
     "text": [
      "{'id': '18202', 'contents': 'measurement unit surface tension unit tension in newtons per meter', 'rel_ori': 'measurement_unit.surface_tension_unit.tension_in_newtons_per_meter'}\n",
      "{'id': '20530', 'contents': 'measurement unit measurement system surface tension units', 'rel_ori': 'measurement_unit.measurement_system.surface_tension_units'}\n",
      "{'id': '18203', 'contents': 'measurement unit surface tension unit measurement system', 'rel_ori': 'measurement_unit.surface_tension_unit.measurement_system'}\n",
      "{'id': '18525', 'contents': 'measurement unit unit of surface density measurement system', 'rel_ori': 'measurement_unit.unit_of_surface_density.measurement_system'}\n",
      "{'id': '20509', 'contents': 'measurement unit measurement system surface density units', 'rel_ori': 'measurement_unit.measurement_system.surface_density_units'}\n",
      "{'id': '17153', 'contents': 'measurement unit unit of volumetric flow rate rate in cubic metres per second', 'rel_ori': 'measurement_unit.unit_of_volumetric_flow_rate.rate_in_cubic_metres_per_second'}\n",
      "{'id': '18526', 'contents': 'measurement unit unit of surface density density in kilograms per square meter', 'rel_ori': 'measurement_unit.unit_of_surface_density.density_in_kilograms_per_square_meter'}\n",
      "{'id': '17162', 'contents': 'measurement unit unit of force force in newtons', 'rel_ori': 'measurement_unit.unit_of_force.force_in_newtons'}\n",
      "{'id': '11299', 'contents': 'measurement unit force moment unit moment in newton meters', 'rel_ori': 'measurement_unit.force_moment_unit.moment_in_newton_meters'}\n",
      "{'id': '19608', 'contents': 'measurement unit unit of force measurement system', 'rel_ori': 'measurement_unit.unit_of_force.measurement_system'}\n",
      "{'id': '11246', 'contents': 'measurement unit unit of conductivity measurement system', 'rel_ori': 'measurement_unit.unit_of_conductivity.measurement_system'}\n",
      "{'id': '2433', 'contents': 'measurement unit money value amount', 'rel_ori': 'measurement_unit.money_value.amount'}\n"
     ]
    }
   ],
   "source": [
    "hsearcher = HybridSearcher(contriever_searcher, bm25_searcher)\n",
    "hits = hsearcher.search('newton per metre is the unit of measurement for surface tension in which system of measurement?', k=20)\n",
    "for hit in hits:\n",
    "    print(json.loads(corpus.doc(str(hit.docid)).raw()))"
   ]
  },
  {
   "cell_type": "code",
   "execution_count": null,
   "id": "0dbf65c1",
   "metadata": {},
   "outputs": [],
   "source": []
  }
 ],
 "metadata": {
  "kernelspec": {
   "display_name": "Python 3 (ipykernel)",
   "language": "python",
   "name": "python3"
  },
  "language_info": {
   "codemirror_mode": {
    "name": "ipython",
    "version": 3
   },
   "file_extension": ".py",
   "mimetype": "text/x-python",
   "name": "python",
   "nbconvert_exporter": "python",
   "pygments_lexer": "ipython3",
   "version": "3.9.18"
  }
 },
 "nbformat": 4,
 "nbformat_minor": 5
}
